{
 "cells": [
  {
   "cell_type": "code",
   "execution_count": 8,
   "id": "5365abca",
   "metadata": {},
   "outputs": [],
   "source": [
    "import numpy as np\n",
    "import pandas as pd\n",
    "import matplotlib.pyplot as plt\n",
    "import sys\n",
    "import pickle"
   ]
  },
  {
   "cell_type": "code",
   "execution_count": 9,
   "id": "7c436077",
   "metadata": {},
   "outputs": [],
   "source": [
    "path = 'datafile/'\n",
    "movies = pd.read_csv(path + 'movie.csv')\n",
    "tags = pd.read_csv(path + 'tag.csv')\n",
    "ratings = pd.read_csv(path + 'rating.csv')"
   ]
  },
  {
   "cell_type": "code",
   "execution_count": 10,
   "id": "ff52bfd3",
   "metadata": {},
   "outputs": [
    {
     "data": {
      "text/html": [
       "<div>\n",
       "<style scoped>\n",
       "    .dataframe tbody tr th:only-of-type {\n",
       "        vertical-align: middle;\n",
       "    }\n",
       "\n",
       "    .dataframe tbody tr th {\n",
       "        vertical-align: top;\n",
       "    }\n",
       "\n",
       "    .dataframe thead th {\n",
       "        text-align: right;\n",
       "    }\n",
       "</style>\n",
       "<table border=\"1\" class=\"dataframe\">\n",
       "  <thead>\n",
       "    <tr style=\"text-align: right;\">\n",
       "      <th></th>\n",
       "      <th>movieId</th>\n",
       "      <th>title</th>\n",
       "      <th>genres</th>\n",
       "    </tr>\n",
       "  </thead>\n",
       "  <tbody>\n",
       "    <tr>\n",
       "      <th>0</th>\n",
       "      <td>1</td>\n",
       "      <td>Toy Story (1995)</td>\n",
       "      <td>Adventure|Animation|Children|Comedy|Fantasy</td>\n",
       "    </tr>\n",
       "    <tr>\n",
       "      <th>1</th>\n",
       "      <td>2</td>\n",
       "      <td>Jumanji (1995)</td>\n",
       "      <td>Adventure|Children|Fantasy</td>\n",
       "    </tr>\n",
       "    <tr>\n",
       "      <th>2</th>\n",
       "      <td>3</td>\n",
       "      <td>Grumpier Old Men (1995)</td>\n",
       "      <td>Comedy|Romance</td>\n",
       "    </tr>\n",
       "    <tr>\n",
       "      <th>3</th>\n",
       "      <td>4</td>\n",
       "      <td>Waiting to Exhale (1995)</td>\n",
       "      <td>Comedy|Drama|Romance</td>\n",
       "    </tr>\n",
       "    <tr>\n",
       "      <th>4</th>\n",
       "      <td>5</td>\n",
       "      <td>Father of the Bride Part II (1995)</td>\n",
       "      <td>Comedy</td>\n",
       "    </tr>\n",
       "  </tbody>\n",
       "</table>\n",
       "</div>"
      ],
      "text/plain": [
       "   movieId                               title  \\\n",
       "0        1                    Toy Story (1995)   \n",
       "1        2                      Jumanji (1995)   \n",
       "2        3             Grumpier Old Men (1995)   \n",
       "3        4            Waiting to Exhale (1995)   \n",
       "4        5  Father of the Bride Part II (1995)   \n",
       "\n",
       "                                        genres  \n",
       "0  Adventure|Animation|Children|Comedy|Fantasy  \n",
       "1                   Adventure|Children|Fantasy  \n",
       "2                               Comedy|Romance  \n",
       "3                         Comedy|Drama|Romance  \n",
       "4                                       Comedy  "
      ]
     },
     "execution_count": 10,
     "metadata": {},
     "output_type": "execute_result"
    }
   ],
   "source": [
    "movies.head()\n"
   ]
  },
  {
   "cell_type": "code",
   "execution_count": 16,
   "id": "59a9822a",
   "metadata": {},
   "outputs": [
    {
     "ename": "NameError",
     "evalue": "name 'ratings' is not defined",
     "output_type": "error",
     "traceback": [
      "\u001b[1;31m---------------------------------------------------------------------------\u001b[0m",
      "\u001b[1;31mNameError\u001b[0m                                 Traceback (most recent call last)",
      "Input \u001b[1;32mIn [16]\u001b[0m, in \u001b[0;36m<cell line: 1>\u001b[1;34m()\u001b[0m\n\u001b[1;32m----> 1\u001b[0m \u001b[43mratings\u001b[49m\u001b[38;5;241m.\u001b[39mhead()\n",
      "\u001b[1;31mNameError\u001b[0m: name 'ratings' is not defined"
     ]
    }
   ],
   "source": [
    "ratings.head()"
   ]
  },
  {
   "cell_type": "code",
   "execution_count": 5,
   "id": "96c680ce",
   "metadata": {},
   "outputs": [
    {
     "name": "stderr",
     "output_type": "stream",
     "text": [
      "C:\\Users\\stuti\\AppData\\Local\\Temp\\ipykernel_11136\\1845334057.py:1: FutureWarning: The default value of regex will change from True to False in a future version. In addition, single character regular expressions will *not* be treated as literal strings when regex=True.\n",
      "  movies['genres'] = movies['genres'].str.replace('|',' ')\n"
     ]
    }
   ],
   "source": [
    "movies['genres'] = movies['genres'].str.replace('|',' ')"
   ]
  },
  {
   "cell_type": "code",
   "execution_count": 6,
   "id": "9367a98e",
   "metadata": {},
   "outputs": [
    {
     "data": {
      "text/plain": [
       "9742"
      ]
     },
     "execution_count": 6,
     "metadata": {},
     "output_type": "execute_result"
    }
   ],
   "source": [
    "len(movies.movieId.unique())"
   ]
  },
  {
   "cell_type": "code",
   "execution_count": 7,
   "id": "908eb692",
   "metadata": {},
   "outputs": [],
   "source": [
    "ratings_f = ratings.groupby('userId').filter(lambda x: len(x)>=55)\n",
    "\n",
    "movie_list_rating = ratings_f.movieId.unique().tolist()"
   ]
  },
  {
   "cell_type": "code",
   "execution_count": 8,
   "id": "8b8a9807",
   "metadata": {},
   "outputs": [
    {
     "data": {
      "text/plain": [
       "98.7990145760624"
      ]
     },
     "execution_count": 8,
     "metadata": {},
     "output_type": "execute_result"
    }
   ],
   "source": [
    "len(ratings_f.movieId.unique())/len(movies.movieId.unique()) * 100"
   ]
  },
  {
   "cell_type": "code",
   "execution_count": 9,
   "id": "d455beb9",
   "metadata": {},
   "outputs": [
    {
     "data": {
      "text/plain": [
       "59.67213114754099"
      ]
     },
     "execution_count": 9,
     "metadata": {},
     "output_type": "execute_result"
    }
   ],
   "source": [
    "len(ratings_f.userId.unique())/len(ratings.userId.unique()) * 100"
   ]
  },
  {
   "cell_type": "code",
   "execution_count": 10,
   "id": "7951e6ea",
   "metadata": {},
   "outputs": [],
   "source": [
    "movies = movies[movies.movieId.isin(movie_list_rating)]"
   ]
  },
  {
   "cell_type": "code",
   "execution_count": 11,
   "id": "34bcccf0",
   "metadata": {},
   "outputs": [
    {
     "data": {
      "text/html": [
       "<div>\n",
       "<style scoped>\n",
       "    .dataframe tbody tr th:only-of-type {\n",
       "        vertical-align: middle;\n",
       "    }\n",
       "\n",
       "    .dataframe tbody tr th {\n",
       "        vertical-align: top;\n",
       "    }\n",
       "\n",
       "    .dataframe thead th {\n",
       "        text-align: right;\n",
       "    }\n",
       "</style>\n",
       "<table border=\"1\" class=\"dataframe\">\n",
       "  <thead>\n",
       "    <tr style=\"text-align: right;\">\n",
       "      <th></th>\n",
       "      <th>movieId</th>\n",
       "      <th>title</th>\n",
       "      <th>genres</th>\n",
       "    </tr>\n",
       "  </thead>\n",
       "  <tbody>\n",
       "    <tr>\n",
       "      <th>0</th>\n",
       "      <td>1</td>\n",
       "      <td>Toy Story (1995)</td>\n",
       "      <td>Adventure Animation Children Comedy Fantasy</td>\n",
       "    </tr>\n",
       "    <tr>\n",
       "      <th>1</th>\n",
       "      <td>2</td>\n",
       "      <td>Jumanji (1995)</td>\n",
       "      <td>Adventure Children Fantasy</td>\n",
       "    </tr>\n",
       "    <tr>\n",
       "      <th>2</th>\n",
       "      <td>3</td>\n",
       "      <td>Grumpier Old Men (1995)</td>\n",
       "      <td>Comedy Romance</td>\n",
       "    </tr>\n",
       "    <tr>\n",
       "      <th>3</th>\n",
       "      <td>4</td>\n",
       "      <td>Waiting to Exhale (1995)</td>\n",
       "      <td>Comedy Drama Romance</td>\n",
       "    </tr>\n",
       "    <tr>\n",
       "      <th>4</th>\n",
       "      <td>5</td>\n",
       "      <td>Father of the Bride Part II (1995)</td>\n",
       "      <td>Comedy</td>\n",
       "    </tr>\n",
       "  </tbody>\n",
       "</table>\n",
       "</div>"
      ],
      "text/plain": [
       "   movieId                               title  \\\n",
       "0        1                    Toy Story (1995)   \n",
       "1        2                      Jumanji (1995)   \n",
       "2        3             Grumpier Old Men (1995)   \n",
       "3        4            Waiting to Exhale (1995)   \n",
       "4        5  Father of the Bride Part II (1995)   \n",
       "\n",
       "                                        genres  \n",
       "0  Adventure Animation Children Comedy Fantasy  \n",
       "1                   Adventure Children Fantasy  \n",
       "2                               Comedy Romance  \n",
       "3                         Comedy Drama Romance  \n",
       "4                                       Comedy  "
      ]
     },
     "execution_count": 11,
     "metadata": {},
     "output_type": "execute_result"
    }
   ],
   "source": [
    "movies.head()"
   ]
  },
  {
   "cell_type": "code",
   "execution_count": 12,
   "id": "5d8f3d34",
   "metadata": {},
   "outputs": [
    {
     "data": {
      "text/plain": [
       "9625"
      ]
     },
     "execution_count": 12,
     "metadata": {},
     "output_type": "execute_result"
    }
   ],
   "source": [
    "len(movies.movieId.unique())"
   ]
  },
  {
   "cell_type": "code",
   "execution_count": 13,
   "id": "99e400af",
   "metadata": {},
   "outputs": [],
   "source": [
    "Mapping_file = dict(zip(movies.title.tolist(), movies.movieId.tolist()))"
   ]
  },
  {
   "cell_type": "code",
   "execution_count": 14,
   "id": "f2c53a47",
   "metadata": {},
   "outputs": [
    {
     "name": "stderr",
     "output_type": "stream",
     "text": [
      "C:\\Users\\stuti\\AppData\\Local\\Temp\\ipykernel_11136\\2674963376.py:1: FutureWarning: In a future version of pandas all arguments of DataFrame.drop except for the argument 'labels' will be keyword-only.\n",
      "  tags.drop([\"timestamp\"],1, inplace=True)\n",
      "C:\\Users\\stuti\\AppData\\Local\\Temp\\ipykernel_11136\\2674963376.py:2: FutureWarning: In a future version of pandas all arguments of DataFrame.drop except for the argument 'labels' will be keyword-only.\n",
      "  ratings_f.drop(['timestamp'],1, inplace=True)\n"
     ]
    }
   ],
   "source": [
    "tags.drop([\"timestamp\"],1, inplace=True)\n",
    "ratings_f.drop(['timestamp'],1, inplace=True)"
   ]
  },
  {
   "cell_type": "code",
   "execution_count": 15,
   "id": "d21e699a",
   "metadata": {},
   "outputs": [
    {
     "data": {
      "text/html": [
       "<div>\n",
       "<style scoped>\n",
       "    .dataframe tbody tr th:only-of-type {\n",
       "        vertical-align: middle;\n",
       "    }\n",
       "\n",
       "    .dataframe tbody tr th {\n",
       "        vertical-align: top;\n",
       "    }\n",
       "\n",
       "    .dataframe thead th {\n",
       "        text-align: right;\n",
       "    }\n",
       "</style>\n",
       "<table border=\"1\" class=\"dataframe\">\n",
       "  <thead>\n",
       "    <tr style=\"text-align: right;\">\n",
       "      <th></th>\n",
       "      <th>movieId</th>\n",
       "      <th>title</th>\n",
       "      <th>genres</th>\n",
       "      <th>userId</th>\n",
       "      <th>tag</th>\n",
       "    </tr>\n",
       "  </thead>\n",
       "  <tbody>\n",
       "    <tr>\n",
       "      <th>0</th>\n",
       "      <td>1</td>\n",
       "      <td>Toy Story (1995)</td>\n",
       "      <td>Adventure Animation Children Comedy Fantasy</td>\n",
       "      <td>336.0</td>\n",
       "      <td>pixar</td>\n",
       "    </tr>\n",
       "    <tr>\n",
       "      <th>1</th>\n",
       "      <td>1</td>\n",
       "      <td>Toy Story (1995)</td>\n",
       "      <td>Adventure Animation Children Comedy Fantasy</td>\n",
       "      <td>474.0</td>\n",
       "      <td>pixar</td>\n",
       "    </tr>\n",
       "    <tr>\n",
       "      <th>2</th>\n",
       "      <td>1</td>\n",
       "      <td>Toy Story (1995)</td>\n",
       "      <td>Adventure Animation Children Comedy Fantasy</td>\n",
       "      <td>567.0</td>\n",
       "      <td>fun</td>\n",
       "    </tr>\n",
       "    <tr>\n",
       "      <th>3</th>\n",
       "      <td>2</td>\n",
       "      <td>Jumanji (1995)</td>\n",
       "      <td>Adventure Children Fantasy</td>\n",
       "      <td>62.0</td>\n",
       "      <td>fantasy</td>\n",
       "    </tr>\n",
       "    <tr>\n",
       "      <th>4</th>\n",
       "      <td>2</td>\n",
       "      <td>Jumanji (1995)</td>\n",
       "      <td>Adventure Children Fantasy</td>\n",
       "      <td>62.0</td>\n",
       "      <td>magic board game</td>\n",
       "    </tr>\n",
       "  </tbody>\n",
       "</table>\n",
       "</div>"
      ],
      "text/plain": [
       "   movieId             title                                       genres  \\\n",
       "0        1  Toy Story (1995)  Adventure Animation Children Comedy Fantasy   \n",
       "1        1  Toy Story (1995)  Adventure Animation Children Comedy Fantasy   \n",
       "2        1  Toy Story (1995)  Adventure Animation Children Comedy Fantasy   \n",
       "3        2    Jumanji (1995)                   Adventure Children Fantasy   \n",
       "4        2    Jumanji (1995)                   Adventure Children Fantasy   \n",
       "\n",
       "   userId               tag  \n",
       "0   336.0             pixar  \n",
       "1   474.0             pixar  \n",
       "2   567.0               fun  \n",
       "3    62.0           fantasy  \n",
       "4    62.0  magic board game  "
      ]
     },
     "execution_count": 15,
     "metadata": {},
     "output_type": "execute_result"
    }
   ],
   "source": [
    "mixed = pd.merge(movies,tags, on='movieId', how='left')\n",
    "mixed.head()"
   ]
  },
  {
   "cell_type": "code",
   "execution_count": 16,
   "id": "eeed1637",
   "metadata": {},
   "outputs": [
    {
     "data": {
      "text/html": [
       "<div>\n",
       "<style scoped>\n",
       "    .dataframe tbody tr th:only-of-type {\n",
       "        vertical-align: middle;\n",
       "    }\n",
       "\n",
       "    .dataframe tbody tr th {\n",
       "        vertical-align: top;\n",
       "    }\n",
       "\n",
       "    .dataframe thead th {\n",
       "        text-align: right;\n",
       "    }\n",
       "</style>\n",
       "<table border=\"1\" class=\"dataframe\">\n",
       "  <thead>\n",
       "    <tr style=\"text-align: right;\">\n",
       "      <th></th>\n",
       "      <th>movieId</th>\n",
       "      <th>title</th>\n",
       "      <th>metadata</th>\n",
       "    </tr>\n",
       "  </thead>\n",
       "  <tbody>\n",
       "    <tr>\n",
       "      <th>0</th>\n",
       "      <td>1</td>\n",
       "      <td>Toy Story (1995)</td>\n",
       "      <td>pixar pixar fun Adventure Animation Children C...</td>\n",
       "    </tr>\n",
       "    <tr>\n",
       "      <th>1</th>\n",
       "      <td>2</td>\n",
       "      <td>Jumanji (1995)</td>\n",
       "      <td>fantasy magic board game Robin Williams game A...</td>\n",
       "    </tr>\n",
       "    <tr>\n",
       "      <th>2</th>\n",
       "      <td>3</td>\n",
       "      <td>Grumpier Old Men (1995)</td>\n",
       "      <td>moldy old Comedy Romance</td>\n",
       "    </tr>\n",
       "    <tr>\n",
       "      <th>3</th>\n",
       "      <td>4</td>\n",
       "      <td>Waiting to Exhale (1995)</td>\n",
       "      <td>Comedy Drama Romance</td>\n",
       "    </tr>\n",
       "    <tr>\n",
       "      <th>4</th>\n",
       "      <td>5</td>\n",
       "      <td>Father of the Bride Part II (1995)</td>\n",
       "      <td>pregnancy remake Comedy</td>\n",
       "    </tr>\n",
       "  </tbody>\n",
       "</table>\n",
       "</div>"
      ],
      "text/plain": [
       "   movieId                               title  \\\n",
       "0        1                    Toy Story (1995)   \n",
       "1        2                      Jumanji (1995)   \n",
       "2        3             Grumpier Old Men (1995)   \n",
       "3        4            Waiting to Exhale (1995)   \n",
       "4        5  Father of the Bride Part II (1995)   \n",
       "\n",
       "                                            metadata  \n",
       "0  pixar pixar fun Adventure Animation Children C...  \n",
       "1  fantasy magic board game Robin Williams game A...  \n",
       "2                           moldy old Comedy Romance  \n",
       "3                               Comedy Drama Romance  \n",
       "4                            pregnancy remake Comedy  "
      ]
     },
     "execution_count": 16,
     "metadata": {},
     "output_type": "execute_result"
    }
   ],
   "source": [
    "mixed.fillna(\"\", inplace=True)\n",
    "mixed = pd.DataFrame(mixed.groupby('movieId')['tag'].apply(lambda x: \"%s\" % ' '.join(x)))\n",
    "Final = pd.merge(movies, mixed, on='movieId', how='left')\n",
    "Final ['metadata'] = Final[['tag','genres']].apply(lambda x: ' '.join(x), axis = 1)\n",
    "Final[['movieId', 'title','metadata']].head()"
   ]
  },
  {
   "cell_type": "code",
   "execution_count": 17,
   "id": "2caf8b02",
   "metadata": {},
   "outputs": [
    {
     "data": {
      "text/plain": [
       "(9625, 5)"
      ]
     },
     "execution_count": 17,
     "metadata": {},
     "output_type": "execute_result"
    }
   ],
   "source": [
    "Final.shape"
   ]
  },
  {
   "cell_type": "code",
   "execution_count": 18,
   "id": "d39482e0",
   "metadata": {},
   "outputs": [
    {
     "data": {
      "text/plain": [
       "'pixar pixar fun Adventure Animation Children Comedy Fantasy'"
      ]
     },
     "execution_count": 18,
     "metadata": {},
     "output_type": "execute_result"
    }
   ],
   "source": [
    "Final.loc[0,\"metadata\"]"
   ]
  },
  {
   "cell_type": "markdown",
   "id": "8a89e31f",
   "metadata": {},
   "source": [
    "Creating a content latent matrix from movie metadata"
   ]
  },
  {
   "cell_type": "markdown",
   "id": "b80c0c8f",
   "metadata": {},
   "source": [
    "tf-idf vectors and truncated SVD :"
   ]
  },
  {
   "cell_type": "code",
   "execution_count": 19,
   "id": "fe272d0c",
   "metadata": {},
   "outputs": [
    {
     "name": "stdout",
     "output_type": "stream",
     "text": [
      "(9625, 1675)\n"
     ]
    }
   ],
   "source": [
    "from sklearn.feature_extraction.text import TfidfVectorizer\n",
    "tfidf = TfidfVectorizer(stop_words='english')\n",
    "tfidf_matrix = tfidf.fit_transform(Final['metadata'])\n",
    "tfidf_df = pd.DataFrame(tfidf_matrix.toarray(), index=Final.index.tolist())\n",
    "print(tfidf_df.shape)"
   ]
  },
  {
   "cell_type": "code",
   "execution_count": 20,
   "id": "462666c3",
   "metadata": {},
   "outputs": [
    {
     "data": {
      "text/html": [
       "<div>\n",
       "<style scoped>\n",
       "    .dataframe tbody tr th:only-of-type {\n",
       "        vertical-align: middle;\n",
       "    }\n",
       "\n",
       "    .dataframe tbody tr th {\n",
       "        vertical-align: top;\n",
       "    }\n",
       "\n",
       "    .dataframe thead th {\n",
       "        text-align: right;\n",
       "    }\n",
       "</style>\n",
       "<table border=\"1\" class=\"dataframe\">\n",
       "  <thead>\n",
       "    <tr style=\"text-align: right;\">\n",
       "      <th></th>\n",
       "      <th>0</th>\n",
       "      <th>1</th>\n",
       "      <th>2</th>\n",
       "      <th>3</th>\n",
       "      <th>4</th>\n",
       "      <th>5</th>\n",
       "      <th>6</th>\n",
       "      <th>7</th>\n",
       "      <th>8</th>\n",
       "      <th>9</th>\n",
       "      <th>...</th>\n",
       "      <th>1665</th>\n",
       "      <th>1666</th>\n",
       "      <th>1667</th>\n",
       "      <th>1668</th>\n",
       "      <th>1669</th>\n",
       "      <th>1670</th>\n",
       "      <th>1671</th>\n",
       "      <th>1672</th>\n",
       "      <th>1673</th>\n",
       "      <th>1674</th>\n",
       "    </tr>\n",
       "  </thead>\n",
       "  <tbody>\n",
       "    <tr>\n",
       "      <th>0</th>\n",
       "      <td>0.0</td>\n",
       "      <td>0.0</td>\n",
       "      <td>0.0</td>\n",
       "      <td>0.0</td>\n",
       "      <td>0.0</td>\n",
       "      <td>0.0</td>\n",
       "      <td>0.0</td>\n",
       "      <td>0.0</td>\n",
       "      <td>0.0</td>\n",
       "      <td>0.0</td>\n",
       "      <td>...</td>\n",
       "      <td>0.0</td>\n",
       "      <td>0.0</td>\n",
       "      <td>0.0</td>\n",
       "      <td>0.0</td>\n",
       "      <td>0.0</td>\n",
       "      <td>0.0</td>\n",
       "      <td>0.0</td>\n",
       "      <td>0.0</td>\n",
       "      <td>0.0</td>\n",
       "      <td>0.0</td>\n",
       "    </tr>\n",
       "    <tr>\n",
       "      <th>1</th>\n",
       "      <td>0.0</td>\n",
       "      <td>0.0</td>\n",
       "      <td>0.0</td>\n",
       "      <td>0.0</td>\n",
       "      <td>0.0</td>\n",
       "      <td>0.0</td>\n",
       "      <td>0.0</td>\n",
       "      <td>0.0</td>\n",
       "      <td>0.0</td>\n",
       "      <td>0.0</td>\n",
       "      <td>...</td>\n",
       "      <td>0.0</td>\n",
       "      <td>0.0</td>\n",
       "      <td>0.0</td>\n",
       "      <td>0.0</td>\n",
       "      <td>0.0</td>\n",
       "      <td>0.0</td>\n",
       "      <td>0.0</td>\n",
       "      <td>0.0</td>\n",
       "      <td>0.0</td>\n",
       "      <td>0.0</td>\n",
       "    </tr>\n",
       "    <tr>\n",
       "      <th>2</th>\n",
       "      <td>0.0</td>\n",
       "      <td>0.0</td>\n",
       "      <td>0.0</td>\n",
       "      <td>0.0</td>\n",
       "      <td>0.0</td>\n",
       "      <td>0.0</td>\n",
       "      <td>0.0</td>\n",
       "      <td>0.0</td>\n",
       "      <td>0.0</td>\n",
       "      <td>0.0</td>\n",
       "      <td>...</td>\n",
       "      <td>0.0</td>\n",
       "      <td>0.0</td>\n",
       "      <td>0.0</td>\n",
       "      <td>0.0</td>\n",
       "      <td>0.0</td>\n",
       "      <td>0.0</td>\n",
       "      <td>0.0</td>\n",
       "      <td>0.0</td>\n",
       "      <td>0.0</td>\n",
       "      <td>0.0</td>\n",
       "    </tr>\n",
       "    <tr>\n",
       "      <th>3</th>\n",
       "      <td>0.0</td>\n",
       "      <td>0.0</td>\n",
       "      <td>0.0</td>\n",
       "      <td>0.0</td>\n",
       "      <td>0.0</td>\n",
       "      <td>0.0</td>\n",
       "      <td>0.0</td>\n",
       "      <td>0.0</td>\n",
       "      <td>0.0</td>\n",
       "      <td>0.0</td>\n",
       "      <td>...</td>\n",
       "      <td>0.0</td>\n",
       "      <td>0.0</td>\n",
       "      <td>0.0</td>\n",
       "      <td>0.0</td>\n",
       "      <td>0.0</td>\n",
       "      <td>0.0</td>\n",
       "      <td>0.0</td>\n",
       "      <td>0.0</td>\n",
       "      <td>0.0</td>\n",
       "      <td>0.0</td>\n",
       "    </tr>\n",
       "    <tr>\n",
       "      <th>4</th>\n",
       "      <td>0.0</td>\n",
       "      <td>0.0</td>\n",
       "      <td>0.0</td>\n",
       "      <td>0.0</td>\n",
       "      <td>0.0</td>\n",
       "      <td>0.0</td>\n",
       "      <td>0.0</td>\n",
       "      <td>0.0</td>\n",
       "      <td>0.0</td>\n",
       "      <td>0.0</td>\n",
       "      <td>...</td>\n",
       "      <td>0.0</td>\n",
       "      <td>0.0</td>\n",
       "      <td>0.0</td>\n",
       "      <td>0.0</td>\n",
       "      <td>0.0</td>\n",
       "      <td>0.0</td>\n",
       "      <td>0.0</td>\n",
       "      <td>0.0</td>\n",
       "      <td>0.0</td>\n",
       "      <td>0.0</td>\n",
       "    </tr>\n",
       "  </tbody>\n",
       "</table>\n",
       "<p>5 rows × 1675 columns</p>\n",
       "</div>"
      ],
      "text/plain": [
       "   0     1     2     3     4     5     6     7     8     9     ...  1665  \\\n",
       "0   0.0   0.0   0.0   0.0   0.0   0.0   0.0   0.0   0.0   0.0  ...   0.0   \n",
       "1   0.0   0.0   0.0   0.0   0.0   0.0   0.0   0.0   0.0   0.0  ...   0.0   \n",
       "2   0.0   0.0   0.0   0.0   0.0   0.0   0.0   0.0   0.0   0.0  ...   0.0   \n",
       "3   0.0   0.0   0.0   0.0   0.0   0.0   0.0   0.0   0.0   0.0  ...   0.0   \n",
       "4   0.0   0.0   0.0   0.0   0.0   0.0   0.0   0.0   0.0   0.0  ...   0.0   \n",
       "\n",
       "   1666  1667  1668  1669  1670  1671  1672  1673  1674  \n",
       "0   0.0   0.0   0.0   0.0   0.0   0.0   0.0   0.0   0.0  \n",
       "1   0.0   0.0   0.0   0.0   0.0   0.0   0.0   0.0   0.0  \n",
       "2   0.0   0.0   0.0   0.0   0.0   0.0   0.0   0.0   0.0  \n",
       "3   0.0   0.0   0.0   0.0   0.0   0.0   0.0   0.0   0.0  \n",
       "4   0.0   0.0   0.0   0.0   0.0   0.0   0.0   0.0   0.0  \n",
       "\n",
       "[5 rows x 1675 columns]"
      ]
     },
     "execution_count": 20,
     "metadata": {},
     "output_type": "execute_result"
    }
   ],
   "source": [
    "tfidf_df.head()"
   ]
  },
  {
   "cell_type": "markdown",
   "id": "9e8e57dd",
   "metadata": {},
   "source": [
    "The first 200 components explain over 50% of the variance:\n"
   ]
  },
  {
   "cell_type": "code",
   "execution_count": 21,
   "id": "028ad3e9",
   "metadata": {},
   "outputs": [
    {
     "data": {
      "image/png": "[encoded data removed]",
      "text/plain": [
       "<Figure size 432x288 with 1 Axes>"
      ]
     },
     "metadata": {
      "needs_background": "light"
     },
     "output_type": "display_data"
    }
   ],
   "source": [
    "from sklearn.decomposition import TruncatedSVD\n",
    "svd = TruncatedSVD(n_components=200)\n",
    "latent_matrix = svd.fit_transform(tfidf_df)\n",
    "explained = svd.explained_variance_ratio_.cumsum()\n",
    "plt.plot(explained, '.-', ms = 16, color='red')\n",
    "plt.xlabel('Singular value components', fontsize=12)\n",
    "plt.ylabel('Cumulative percent of variance', fontsize=12)\n",
    "plt.show()"
   ]
  },
  {
   "cell_type": "code",
   "execution_count": 22,
   "id": "ef2b8cdd",
   "metadata": {},
   "outputs": [],
   "source": [
    "n=200\n",
    "latent_matrix_1_df = pd.DataFrame(latent_matrix[:,0:n], index=Final.title.tolist())"
   ]
  },
  {
   "cell_type": "code",
   "execution_count": 23,
   "id": "3cfae37b",
   "metadata": {},
   "outputs": [
    {
     "data": {
      "text/plain": [
       "(9625, 200)"
      ]
     },
     "execution_count": 23,
     "metadata": {},
     "output_type": "execute_result"
    }
   ],
   "source": [
    "latent_matrix.shape"
   ]
  },
  {
   "cell_type": "markdown",
   "id": "6e1fa26a",
   "metadata": {},
   "source": [
    "Creating a collaborative latent matrix from user ratings:"
   ]
  },
  {
   "cell_type": "code",
   "execution_count": 24,
   "id": "469957fb",
   "metadata": {},
   "outputs": [
    {
     "data": {
      "text/html": [
       "<div>\n",
       "<style scoped>\n",
       "    .dataframe tbody tr th:only-of-type {\n",
       "        vertical-align: middle;\n",
       "    }\n",
       "\n",
       "    .dataframe tbody tr th {\n",
       "        vertical-align: top;\n",
       "    }\n",
       "\n",
       "    .dataframe thead th {\n",
       "        text-align: right;\n",
       "    }\n",
       "</style>\n",
       "<table border=\"1\" class=\"dataframe\">\n",
       "  <thead>\n",
       "    <tr style=\"text-align: right;\">\n",
       "      <th></th>\n",
       "      <th>userId</th>\n",
       "      <th>movieId</th>\n",
       "      <th>rating</th>\n",
       "    </tr>\n",
       "  </thead>\n",
       "  <tbody>\n",
       "    <tr>\n",
       "      <th>0</th>\n",
       "      <td>1</td>\n",
       "      <td>1</td>\n",
       "      <td>4.0</td>\n",
       "    </tr>\n",
       "    <tr>\n",
       "      <th>1</th>\n",
       "      <td>1</td>\n",
       "      <td>3</td>\n",
       "      <td>4.0</td>\n",
       "    </tr>\n",
       "    <tr>\n",
       "      <th>2</th>\n",
       "      <td>1</td>\n",
       "      <td>6</td>\n",
       "      <td>4.0</td>\n",
       "    </tr>\n",
       "    <tr>\n",
       "      <th>3</th>\n",
       "      <td>1</td>\n",
       "      <td>47</td>\n",
       "      <td>5.0</td>\n",
       "    </tr>\n",
       "    <tr>\n",
       "      <th>4</th>\n",
       "      <td>1</td>\n",
       "      <td>50</td>\n",
       "      <td>5.0</td>\n",
       "    </tr>\n",
       "  </tbody>\n",
       "</table>\n",
       "</div>"
      ],
      "text/plain": [
       "   userId  movieId  rating\n",
       "0       1        1     4.0\n",
       "1       1        3     4.0\n",
       "2       1        6     4.0\n",
       "3       1       47     5.0\n",
       "4       1       50     5.0"
      ]
     },
     "execution_count": 24,
     "metadata": {},
     "output_type": "execute_result"
    }
   ],
   "source": [
    "ratings_f.head()"
   ]
  },
  {
   "cell_type": "code",
   "execution_count": 25,
   "id": "e0ef7919",
   "metadata": {},
   "outputs": [],
   "source": [
    "ratings_f1 = pd.merge(movies[['movieId']],ratings_f, on=\"movieId\", how=\"right\")"
   ]
  },
  {
   "cell_type": "code",
   "execution_count": 26,
   "id": "0a64858e",
   "metadata": {},
   "outputs": [],
   "source": [
    "ratings_f2 = ratings_f1.pivot(index = 'movieId', columns='userId', values = 'rating').fillna(0)"
   ]
  },
  {
   "cell_type": "code",
   "execution_count": 27,
   "id": "fb76399d",
   "metadata": {},
   "outputs": [
    {
     "data": {
      "text/html": [
       "<div>\n",
       "<style scoped>\n",
       "    .dataframe tbody tr th:only-of-type {\n",
       "        vertical-align: middle;\n",
       "    }\n",
       "\n",
       "    .dataframe tbody tr th {\n",
       "        vertical-align: top;\n",
       "    }\n",
       "\n",
       "    .dataframe thead th {\n",
       "        text-align: right;\n",
       "    }\n",
       "</style>\n",
       "<table border=\"1\" class=\"dataframe\">\n",
       "  <thead>\n",
       "    <tr style=\"text-align: right;\">\n",
       "      <th>userId</th>\n",
       "      <th>1</th>\n",
       "      <th>4</th>\n",
       "      <th>6</th>\n",
       "      <th>7</th>\n",
       "      <th>10</th>\n",
       "      <th>11</th>\n",
       "      <th>15</th>\n",
       "      <th>16</th>\n",
       "      <th>17</th>\n",
       "      <th>18</th>\n",
       "      <th>...</th>\n",
       "      <th>600</th>\n",
       "      <th>601</th>\n",
       "      <th>602</th>\n",
       "      <th>603</th>\n",
       "      <th>604</th>\n",
       "      <th>605</th>\n",
       "      <th>606</th>\n",
       "      <th>607</th>\n",
       "      <th>608</th>\n",
       "      <th>610</th>\n",
       "    </tr>\n",
       "    <tr>\n",
       "      <th>movieId</th>\n",
       "      <th></th>\n",
       "      <th></th>\n",
       "      <th></th>\n",
       "      <th></th>\n",
       "      <th></th>\n",
       "      <th></th>\n",
       "      <th></th>\n",
       "      <th></th>\n",
       "      <th></th>\n",
       "      <th></th>\n",
       "      <th></th>\n",
       "      <th></th>\n",
       "      <th></th>\n",
       "      <th></th>\n",
       "      <th></th>\n",
       "      <th></th>\n",
       "      <th></th>\n",
       "      <th></th>\n",
       "      <th></th>\n",
       "      <th></th>\n",
       "      <th></th>\n",
       "    </tr>\n",
       "  </thead>\n",
       "  <tbody>\n",
       "    <tr>\n",
       "      <th>1</th>\n",
       "      <td>4.0</td>\n",
       "      <td>0.0</td>\n",
       "      <td>0.0</td>\n",
       "      <td>4.5</td>\n",
       "      <td>0.0</td>\n",
       "      <td>0.0</td>\n",
       "      <td>2.5</td>\n",
       "      <td>0.0</td>\n",
       "      <td>4.5</td>\n",
       "      <td>3.5</td>\n",
       "      <td>...</td>\n",
       "      <td>2.5</td>\n",
       "      <td>4.0</td>\n",
       "      <td>0.0</td>\n",
       "      <td>4.0</td>\n",
       "      <td>3.0</td>\n",
       "      <td>4.0</td>\n",
       "      <td>2.5</td>\n",
       "      <td>4.0</td>\n",
       "      <td>2.5</td>\n",
       "      <td>5.0</td>\n",
       "    </tr>\n",
       "    <tr>\n",
       "      <th>2</th>\n",
       "      <td>0.0</td>\n",
       "      <td>0.0</td>\n",
       "      <td>4.0</td>\n",
       "      <td>0.0</td>\n",
       "      <td>0.0</td>\n",
       "      <td>0.0</td>\n",
       "      <td>0.0</td>\n",
       "      <td>0.0</td>\n",
       "      <td>0.0</td>\n",
       "      <td>3.0</td>\n",
       "      <td>...</td>\n",
       "      <td>4.0</td>\n",
       "      <td>0.0</td>\n",
       "      <td>4.0</td>\n",
       "      <td>0.0</td>\n",
       "      <td>5.0</td>\n",
       "      <td>3.5</td>\n",
       "      <td>0.0</td>\n",
       "      <td>0.0</td>\n",
       "      <td>2.0</td>\n",
       "      <td>0.0</td>\n",
       "    </tr>\n",
       "    <tr>\n",
       "      <th>3</th>\n",
       "      <td>4.0</td>\n",
       "      <td>0.0</td>\n",
       "      <td>5.0</td>\n",
       "      <td>0.0</td>\n",
       "      <td>0.0</td>\n",
       "      <td>0.0</td>\n",
       "      <td>0.0</td>\n",
       "      <td>0.0</td>\n",
       "      <td>0.0</td>\n",
       "      <td>0.0</td>\n",
       "      <td>...</td>\n",
       "      <td>0.0</td>\n",
       "      <td>0.0</td>\n",
       "      <td>0.0</td>\n",
       "      <td>0.0</td>\n",
       "      <td>0.0</td>\n",
       "      <td>0.0</td>\n",
       "      <td>0.0</td>\n",
       "      <td>0.0</td>\n",
       "      <td>2.0</td>\n",
       "      <td>0.0</td>\n",
       "    </tr>\n",
       "  </tbody>\n",
       "</table>\n",
       "<p>3 rows × 364 columns</p>\n",
       "</div>"
      ],
      "text/plain": [
       "userId   1    4    6    7    10   11   15   16   17   18   ...  600  601  602  \\\n",
       "movieId                                                    ...                  \n",
       "1        4.0  0.0  0.0  4.5  0.0  0.0  2.5  0.0  4.5  3.5  ...  2.5  4.0  0.0   \n",
       "2        0.0  0.0  4.0  0.0  0.0  0.0  0.0  0.0  0.0  3.0  ...  4.0  0.0  4.0   \n",
       "3        4.0  0.0  5.0  0.0  0.0  0.0  0.0  0.0  0.0  0.0  ...  0.0  0.0  0.0   \n",
       "\n",
       "userId   603  604  605  606  607  608  610  \n",
       "movieId                                     \n",
       "1        4.0  3.0  4.0  2.5  4.0  2.5  5.0  \n",
       "2        0.0  5.0  3.5  0.0  0.0  2.0  0.0  \n",
       "3        0.0  0.0  0.0  0.0  0.0  2.0  0.0  \n",
       "\n",
       "[3 rows x 364 columns]"
      ]
     },
     "execution_count": 27,
     "metadata": {},
     "output_type": "execute_result"
    }
   ],
   "source": [
    "ratings_f2.head(3)"
   ]
  },
  {
   "cell_type": "code",
   "execution_count": 28,
   "id": "259608eb",
   "metadata": {},
   "outputs": [
    {
     "data": {
      "text/plain": [
       "(9625, 364)"
      ]
     },
     "execution_count": 28,
     "metadata": {},
     "output_type": "execute_result"
    }
   ],
   "source": [
    "ratings_f2.shape"
   ]
  },
  {
   "cell_type": "code",
   "execution_count": 29,
   "id": "57d9f8ec",
   "metadata": {},
   "outputs": [
    {
     "data": {
      "text/plain": [
       "9625"
      ]
     },
     "execution_count": 29,
     "metadata": {},
     "output_type": "execute_result"
    }
   ],
   "source": [
    "len(ratings_f.movieId.unique())"
   ]
  },
  {
   "cell_type": "code",
   "execution_count": 30,
   "id": "a660c021",
   "metadata": {},
   "outputs": [],
   "source": [
    "from sklearn.decomposition import TruncatedSVD\n",
    "svd = TruncatedSVD(n_components=200)\n",
    "latent_matrix_2 = svd.fit_transform(ratings_f2)\n",
    "latent_matrix_2_df = pd.DataFrame(latent_matrix_2, index=Final.title.tolist())"
   ]
  },
  {
   "cell_type": "code",
   "execution_count": 31,
   "id": "2d5f7237",
   "metadata": {},
   "outputs": [
    {
     "data": {
      "text/plain": [
       "(9625, 200)"
      ]
     },
     "execution_count": 31,
     "metadata": {},
     "output_type": "execute_result"
    }
   ],
   "source": [
    "latent_matrix_2_df.shape"
   ]
  },
  {
   "cell_type": "code",
   "execution_count": 32,
   "id": "d501d009",
   "metadata": {},
   "outputs": [],
   "source": [
    "explained = svd.explained_variance_ratio_.cumsum()"
   ]
  },
  {
   "cell_type": "code",
   "execution_count": 33,
   "id": "062711d8",
   "metadata": {},
   "outputs": [
    {
     "data": {
      "image/png": "[encoded data removed]",
      "text/plain": [
       "<Figure size 432x288 with 1 Axes>"
      ]
     },
     "metadata": {
      "needs_background": "light"
     },
     "output_type": "display_data"
    }
   ],
   "source": [
    "plt.plot(explained, '.-', ms=16, color='red')\n",
    "plt.xlabel('Singular value components', fontsize= 12)\n",
    "plt.ylabel('Cumulative percent of variance', fontsize=12)\n",
    "plt.show()"
   ]
  },
  {
   "cell_type": "code",
   "execution_count": 42,
   "id": "62a90084",
   "metadata": {},
   "outputs": [
    {
     "data": {
      "text/html": [
       "<div>\n",
       "<style scoped>\n",
       "    .dataframe tbody tr th:only-of-type {\n",
       "        vertical-align: middle;\n",
       "    }\n",
       "\n",
       "    .dataframe tbody tr th {\n",
       "        vertical-align: top;\n",
       "    }\n",
       "\n",
       "    .dataframe thead th {\n",
       "        text-align: right;\n",
       "    }\n",
       "</style>\n",
       "<table border=\"1\" class=\"dataframe\">\n",
       "  <thead>\n",
       "    <tr style=\"text-align: right;\">\n",
       "      <th></th>\n",
       "      <th>0</th>\n",
       "      <th>1</th>\n",
       "      <th>2</th>\n",
       "      <th>3</th>\n",
       "      <th>4</th>\n",
       "      <th>5</th>\n",
       "      <th>6</th>\n",
       "      <th>7</th>\n",
       "      <th>8</th>\n",
       "      <th>9</th>\n",
       "      <th>...</th>\n",
       "      <th>190</th>\n",
       "      <th>191</th>\n",
       "      <th>192</th>\n",
       "      <th>193</th>\n",
       "      <th>194</th>\n",
       "      <th>195</th>\n",
       "      <th>196</th>\n",
       "      <th>197</th>\n",
       "      <th>198</th>\n",
       "      <th>199</th>\n",
       "    </tr>\n",
       "  </thead>\n",
       "  <tbody>\n",
       "    <tr>\n",
       "      <th>Toy Story (1995)</th>\n",
       "      <td>0.102600</td>\n",
       "      <td>0.082370</td>\n",
       "      <td>0.069459</td>\n",
       "      <td>0.091250</td>\n",
       "      <td>-0.151136</td>\n",
       "      <td>0.012090</td>\n",
       "      <td>0.234567</td>\n",
       "      <td>-0.019392</td>\n",
       "      <td>-0.124586</td>\n",
       "      <td>-0.008614</td>\n",
       "      <td>...</td>\n",
       "      <td>0.297285</td>\n",
       "      <td>0.190877</td>\n",
       "      <td>0.043663</td>\n",
       "      <td>-0.105950</td>\n",
       "      <td>0.081916</td>\n",
       "      <td>0.081331</td>\n",
       "      <td>0.086660</td>\n",
       "      <td>-0.023978</td>\n",
       "      <td>0.057099</td>\n",
       "      <td>0.100563</td>\n",
       "    </tr>\n",
       "    <tr>\n",
       "      <th>Jumanji (1995)</th>\n",
       "      <td>0.032689</td>\n",
       "      <td>0.008539</td>\n",
       "      <td>0.059189</td>\n",
       "      <td>0.091842</td>\n",
       "      <td>-0.106015</td>\n",
       "      <td>0.007100</td>\n",
       "      <td>0.189676</td>\n",
       "      <td>-0.012325</td>\n",
       "      <td>-0.078054</td>\n",
       "      <td>0.001669</td>\n",
       "      <td>...</td>\n",
       "      <td>0.005162</td>\n",
       "      <td>0.007848</td>\n",
       "      <td>0.017578</td>\n",
       "      <td>-0.014988</td>\n",
       "      <td>-0.002817</td>\n",
       "      <td>-0.029021</td>\n",
       "      <td>0.015751</td>\n",
       "      <td>0.003566</td>\n",
       "      <td>-0.001514</td>\n",
       "      <td>-0.002708</td>\n",
       "    </tr>\n",
       "    <tr>\n",
       "      <th>Grumpier Old Men (1995)</th>\n",
       "      <td>0.148118</td>\n",
       "      <td>0.105052</td>\n",
       "      <td>-0.042318</td>\n",
       "      <td>0.121888</td>\n",
       "      <td>0.098552</td>\n",
       "      <td>-0.040117</td>\n",
       "      <td>-0.011973</td>\n",
       "      <td>0.000952</td>\n",
       "      <td>0.004727</td>\n",
       "      <td>-0.002093</td>\n",
       "      <td>...</td>\n",
       "      <td>-0.002774</td>\n",
       "      <td>-0.003718</td>\n",
       "      <td>-0.004553</td>\n",
       "      <td>-0.007008</td>\n",
       "      <td>0.002118</td>\n",
       "      <td>-0.002770</td>\n",
       "      <td>-0.000661</td>\n",
       "      <td>0.006316</td>\n",
       "      <td>0.003580</td>\n",
       "      <td>-0.004125</td>\n",
       "    </tr>\n",
       "    <tr>\n",
       "      <th>Waiting to Exhale (1995)</th>\n",
       "      <td>0.824508</td>\n",
       "      <td>0.064191</td>\n",
       "      <td>-0.292164</td>\n",
       "      <td>0.377882</td>\n",
       "      <td>0.274419</td>\n",
       "      <td>-0.082577</td>\n",
       "      <td>-0.046063</td>\n",
       "      <td>0.001273</td>\n",
       "      <td>0.028399</td>\n",
       "      <td>-0.000377</td>\n",
       "      <td>...</td>\n",
       "      <td>0.000074</td>\n",
       "      <td>0.000216</td>\n",
       "      <td>-0.000039</td>\n",
       "      <td>-0.000354</td>\n",
       "      <td>0.000170</td>\n",
       "      <td>-0.000064</td>\n",
       "      <td>-0.000397</td>\n",
       "      <td>-0.000136</td>\n",
       "      <td>-0.000143</td>\n",
       "      <td>-0.000171</td>\n",
       "    </tr>\n",
       "    <tr>\n",
       "      <th>Father of the Bride Part II (1995)</th>\n",
       "      <td>0.113317</td>\n",
       "      <td>0.120747</td>\n",
       "      <td>-0.006328</td>\n",
       "      <td>-0.037081</td>\n",
       "      <td>-0.007424</td>\n",
       "      <td>0.010526</td>\n",
       "      <td>-0.009221</td>\n",
       "      <td>-0.001934</td>\n",
       "      <td>0.004463</td>\n",
       "      <td>-0.011439</td>\n",
       "      <td>...</td>\n",
       "      <td>-0.005964</td>\n",
       "      <td>0.021149</td>\n",
       "      <td>-0.000637</td>\n",
       "      <td>0.011673</td>\n",
       "      <td>0.007758</td>\n",
       "      <td>0.002500</td>\n",
       "      <td>0.001992</td>\n",
       "      <td>0.001054</td>\n",
       "      <td>0.005765</td>\n",
       "      <td>0.002831</td>\n",
       "    </tr>\n",
       "  </tbody>\n",
       "</table>\n",
       "<p>5 rows × 200 columns</p>\n",
       "</div>"
      ],
      "text/plain": [
       "                                         0         1         2         3    \\\n",
       "Toy Story (1995)                    0.102600  0.082370  0.069459  0.091250   \n",
       "Jumanji (1995)                      0.032689  0.008539  0.059189  0.091842   \n",
       "Grumpier Old Men (1995)             0.148118  0.105052 -0.042318  0.121888   \n",
       "Waiting to Exhale (1995)            0.824508  0.064191 -0.292164  0.377882   \n",
       "Father of the Bride Part II (1995)  0.113317  0.120747 -0.006328 -0.037081   \n",
       "\n",
       "                                         4         5         6         7    \\\n",
       "Toy Story (1995)                   -0.151136  0.012090  0.234567 -0.019392   \n",
       "Jumanji (1995)                     -0.106015  0.007100  0.189676 -0.012325   \n",
       "Grumpier Old Men (1995)             0.098552 -0.040117 -0.011973  0.000952   \n",
       "Waiting to Exhale (1995)            0.274419 -0.082577 -0.046063  0.001273   \n",
       "Father of the Bride Part II (1995) -0.007424  0.010526 -0.009221 -0.001934   \n",
       "\n",
       "                                         8         9    ...       190  \\\n",
       "Toy Story (1995)                   -0.124586 -0.008614  ...  0.297285   \n",
       "Jumanji (1995)                     -0.078054  0.001669  ...  0.005162   \n",
       "Grumpier Old Men (1995)             0.004727 -0.002093  ... -0.002774   \n",
       "Waiting to Exhale (1995)            0.028399 -0.000377  ...  0.000074   \n",
       "Father of the Bride Part II (1995)  0.004463 -0.011439  ... -0.005964   \n",
       "\n",
       "                                         191       192       193       194  \\\n",
       "Toy Story (1995)                    0.190877  0.043663 -0.105950  0.081916   \n",
       "Jumanji (1995)                      0.007848  0.017578 -0.014988 -0.002817   \n",
       "Grumpier Old Men (1995)            -0.003718 -0.004553 -0.007008  0.002118   \n",
       "Waiting to Exhale (1995)            0.000216 -0.000039 -0.000354  0.000170   \n",
       "Father of the Bride Part II (1995)  0.021149 -0.000637  0.011673  0.007758   \n",
       "\n",
       "                                         195       196       197       198  \\\n",
       "Toy Story (1995)                    0.081331  0.086660 -0.023978  0.057099   \n",
       "Jumanji (1995)                     -0.029021  0.015751  0.003566 -0.001514   \n",
       "Grumpier Old Men (1995)            -0.002770 -0.000661  0.006316  0.003580   \n",
       "Waiting to Exhale (1995)           -0.000064 -0.000397 -0.000136 -0.000143   \n",
       "Father of the Bride Part II (1995)  0.002500  0.001992  0.001054  0.005765   \n",
       "\n",
       "                                         199  \n",
       "Toy Story (1995)                    0.100563  \n",
       "Jumanji (1995)                     -0.002708  \n",
       "Grumpier Old Men (1995)            -0.004125  \n",
       "Waiting to Exhale (1995)           -0.000171  \n",
       "Father of the Bride Part II (1995)  0.002831  \n",
       "\n",
       "[5 rows x 200 columns]"
      ]
     },
     "execution_count": 42,
     "metadata": {},
     "output_type": "execute_result"
    }
   ],
   "source": [
    "latent_matrix_1_df.head()"
   ]
  },
  {
   "cell_type": "markdown",
   "id": "a49278ea",
   "metadata": {},
   "source": [
    "Running a content/collaborative and hybrid cosine Similarity"
   ]
  },
  {
   "cell_type": "code",
   "execution_count": 43,
   "id": "ba43d563",
   "metadata": {},
   "outputs": [
    {
     "data": {
      "text/html": [
       "<div>\n",
       "<style scoped>\n",
       "    .dataframe tbody tr th:only-of-type {\n",
       "        vertical-align: middle;\n",
       "    }\n",
       "\n",
       "    .dataframe tbody tr th {\n",
       "        vertical-align: top;\n",
       "    }\n",
       "\n",
       "    .dataframe thead th {\n",
       "        text-align: right;\n",
       "    }\n",
       "</style>\n",
       "<table border=\"1\" class=\"dataframe\">\n",
       "  <thead>\n",
       "    <tr style=\"text-align: right;\">\n",
       "      <th></th>\n",
       "      <th>0</th>\n",
       "      <th>1</th>\n",
       "      <th>2</th>\n",
       "      <th>3</th>\n",
       "      <th>4</th>\n",
       "      <th>5</th>\n",
       "      <th>6</th>\n",
       "      <th>7</th>\n",
       "      <th>8</th>\n",
       "      <th>9</th>\n",
       "      <th>...</th>\n",
       "      <th>190</th>\n",
       "      <th>191</th>\n",
       "      <th>192</th>\n",
       "      <th>193</th>\n",
       "      <th>194</th>\n",
       "      <th>195</th>\n",
       "      <th>196</th>\n",
       "      <th>197</th>\n",
       "      <th>198</th>\n",
       "      <th>199</th>\n",
       "    </tr>\n",
       "  </thead>\n",
       "  <tbody>\n",
       "    <tr>\n",
       "      <th>Toy Story (1995)</th>\n",
       "      <td>36.391240</td>\n",
       "      <td>-4.958788</td>\n",
       "      <td>14.331820</td>\n",
       "      <td>1.844157</td>\n",
       "      <td>-3.077922</td>\n",
       "      <td>-1.351171</td>\n",
       "      <td>8.341427</td>\n",
       "      <td>-0.561088</td>\n",
       "      <td>-1.898201</td>\n",
       "      <td>1.657857</td>\n",
       "      <td>...</td>\n",
       "      <td>-0.637198</td>\n",
       "      <td>2.306659</td>\n",
       "      <td>1.579550</td>\n",
       "      <td>1.196205</td>\n",
       "      <td>-0.908589</td>\n",
       "      <td>-0.325001</td>\n",
       "      <td>0.542630</td>\n",
       "      <td>3.300185</td>\n",
       "      <td>-1.702523</td>\n",
       "      <td>-1.443511</td>\n",
       "    </tr>\n",
       "    <tr>\n",
       "      <th>Jumanji (1995)</th>\n",
       "      <td>20.447499</td>\n",
       "      <td>0.675231</td>\n",
       "      <td>11.354479</td>\n",
       "      <td>-7.325453</td>\n",
       "      <td>-3.505243</td>\n",
       "      <td>3.585611</td>\n",
       "      <td>4.393396</td>\n",
       "      <td>-5.564559</td>\n",
       "      <td>0.434472</td>\n",
       "      <td>0.351436</td>\n",
       "      <td>...</td>\n",
       "      <td>-0.482695</td>\n",
       "      <td>0.830680</td>\n",
       "      <td>-1.620764</td>\n",
       "      <td>-1.096196</td>\n",
       "      <td>-0.919192</td>\n",
       "      <td>1.996786</td>\n",
       "      <td>-1.225829</td>\n",
       "      <td>0.795432</td>\n",
       "      <td>-0.031957</td>\n",
       "      <td>-0.545209</td>\n",
       "    </tr>\n",
       "    <tr>\n",
       "      <th>Grumpier Old Men (1995)</th>\n",
       "      <td>8.407816</td>\n",
       "      <td>-5.190801</td>\n",
       "      <td>4.378314</td>\n",
       "      <td>-6.189039</td>\n",
       "      <td>-0.333121</td>\n",
       "      <td>1.924149</td>\n",
       "      <td>-1.548363</td>\n",
       "      <td>0.795946</td>\n",
       "      <td>-3.196045</td>\n",
       "      <td>2.121791</td>\n",
       "      <td>...</td>\n",
       "      <td>-0.445124</td>\n",
       "      <td>0.256525</td>\n",
       "      <td>-0.000140</td>\n",
       "      <td>0.359074</td>\n",
       "      <td>-0.781480</td>\n",
       "      <td>-0.521208</td>\n",
       "      <td>-0.272094</td>\n",
       "      <td>-1.760908</td>\n",
       "      <td>0.665267</td>\n",
       "      <td>-0.115032</td>\n",
       "    </tr>\n",
       "    <tr>\n",
       "      <th>Waiting to Exhale (1995)</th>\n",
       "      <td>0.408037</td>\n",
       "      <td>-0.664700</td>\n",
       "      <td>0.739903</td>\n",
       "      <td>-0.202676</td>\n",
       "      <td>-0.498374</td>\n",
       "      <td>1.055409</td>\n",
       "      <td>0.184081</td>\n",
       "      <td>-0.508293</td>\n",
       "      <td>-0.429505</td>\n",
       "      <td>0.086538</td>\n",
       "      <td>...</td>\n",
       "      <td>-0.106097</td>\n",
       "      <td>-0.134914</td>\n",
       "      <td>-0.025135</td>\n",
       "      <td>-0.241884</td>\n",
       "      <td>0.068596</td>\n",
       "      <td>0.195991</td>\n",
       "      <td>-0.156641</td>\n",
       "      <td>0.448193</td>\n",
       "      <td>0.040060</td>\n",
       "      <td>0.036803</td>\n",
       "    </tr>\n",
       "    <tr>\n",
       "      <th>Father of the Bride Part II (1995)</th>\n",
       "      <td>5.755079</td>\n",
       "      <td>-1.757369</td>\n",
       "      <td>3.961287</td>\n",
       "      <td>-3.673278</td>\n",
       "      <td>-3.688047</td>\n",
       "      <td>3.237859</td>\n",
       "      <td>1.140586</td>\n",
       "      <td>-0.690786</td>\n",
       "      <td>-2.171826</td>\n",
       "      <td>1.365962</td>\n",
       "      <td>...</td>\n",
       "      <td>-0.616704</td>\n",
       "      <td>-0.901831</td>\n",
       "      <td>0.169219</td>\n",
       "      <td>-0.619755</td>\n",
       "      <td>0.382162</td>\n",
       "      <td>-0.185008</td>\n",
       "      <td>0.119316</td>\n",
       "      <td>-0.871337</td>\n",
       "      <td>0.193528</td>\n",
       "      <td>-0.484082</td>\n",
       "    </tr>\n",
       "  </tbody>\n",
       "</table>\n",
       "<p>5 rows × 200 columns</p>\n",
       "</div>"
      ],
      "text/plain": [
       "                                          0         1          2         3    \\\n",
       "Toy Story (1995)                    36.391240 -4.958788  14.331820  1.844157   \n",
       "Jumanji (1995)                      20.447499  0.675231  11.354479 -7.325453   \n",
       "Grumpier Old Men (1995)              8.407816 -5.190801   4.378314 -6.189039   \n",
       "Waiting to Exhale (1995)             0.408037 -0.664700   0.739903 -0.202676   \n",
       "Father of the Bride Part II (1995)   5.755079 -1.757369   3.961287 -3.673278   \n",
       "\n",
       "                                         4         5         6         7    \\\n",
       "Toy Story (1995)                   -3.077922 -1.351171  8.341427 -0.561088   \n",
       "Jumanji (1995)                     -3.505243  3.585611  4.393396 -5.564559   \n",
       "Grumpier Old Men (1995)            -0.333121  1.924149 -1.548363  0.795946   \n",
       "Waiting to Exhale (1995)           -0.498374  1.055409  0.184081 -0.508293   \n",
       "Father of the Bride Part II (1995) -3.688047  3.237859  1.140586 -0.690786   \n",
       "\n",
       "                                         8         9    ...       190  \\\n",
       "Toy Story (1995)                   -1.898201  1.657857  ... -0.637198   \n",
       "Jumanji (1995)                      0.434472  0.351436  ... -0.482695   \n",
       "Grumpier Old Men (1995)            -3.196045  2.121791  ... -0.445124   \n",
       "Waiting to Exhale (1995)           -0.429505  0.086538  ... -0.106097   \n",
       "Father of the Bride Part II (1995) -2.171826  1.365962  ... -0.616704   \n",
       "\n",
       "                                         191       192       193       194  \\\n",
       "Toy Story (1995)                    2.306659  1.579550  1.196205 -0.908589   \n",
       "Jumanji (1995)                      0.830680 -1.620764 -1.096196 -0.919192   \n",
       "Grumpier Old Men (1995)             0.256525 -0.000140  0.359074 -0.781480   \n",
       "Waiting to Exhale (1995)           -0.134914 -0.025135 -0.241884  0.068596   \n",
       "Father of the Bride Part II (1995) -0.901831  0.169219 -0.619755  0.382162   \n",
       "\n",
       "                                         195       196       197       198  \\\n",
       "Toy Story (1995)                   -0.325001  0.542630  3.300185 -1.702523   \n",
       "Jumanji (1995)                      1.996786 -1.225829  0.795432 -0.031957   \n",
       "Grumpier Old Men (1995)            -0.521208 -0.272094 -1.760908  0.665267   \n",
       "Waiting to Exhale (1995)            0.195991 -0.156641  0.448193  0.040060   \n",
       "Father of the Bride Part II (1995) -0.185008  0.119316 -0.871337  0.193528   \n",
       "\n",
       "                                         199  \n",
       "Toy Story (1995)                   -1.443511  \n",
       "Jumanji (1995)                     -0.545209  \n",
       "Grumpier Old Men (1995)            -0.115032  \n",
       "Waiting to Exhale (1995)            0.036803  \n",
       "Father of the Bride Part II (1995) -0.484082  \n",
       "\n",
       "[5 rows x 200 columns]"
      ]
     },
     "execution_count": 43,
     "metadata": {},
     "output_type": "execute_result"
    }
   ],
   "source": [
    "latent_matrix_2_df.head()"
   ]
  },
  {
   "cell_type": "code",
   "execution_count": 41,
   "id": "c73ad73b",
   "metadata": {},
   "outputs": [
    {
     "data": {
      "text/html": [
       "<div>\n",
       "<style scoped>\n",
       "    .dataframe tbody tr th:only-of-type {\n",
       "        vertical-align: middle;\n",
       "    }\n",
       "\n",
       "    .dataframe tbody tr th {\n",
       "        vertical-align: top;\n",
       "    }\n",
       "\n",
       "    .dataframe thead th {\n",
       "        text-align: right;\n",
       "    }\n",
       "</style>\n",
       "<table border=\"1\" class=\"dataframe\">\n",
       "  <thead>\n",
       "    <tr style=\"text-align: right;\">\n",
       "      <th></th>\n",
       "      <th>content</th>\n",
       "      <th>collaborative</th>\n",
       "      <th>hybrid</th>\n",
       "    </tr>\n",
       "  </thead>\n",
       "  <tbody>\n",
       "    <tr>\n",
       "      <th>Bug's Life, A (1998)</th>\n",
       "      <td>0.900053</td>\n",
       "      <td>0.589816</td>\n",
       "      <td>0.744934</td>\n",
       "    </tr>\n",
       "    <tr>\n",
       "      <th>Toy Story 2 (1999)</th>\n",
       "      <td>0.762635</td>\n",
       "      <td>0.690558</td>\n",
       "      <td>0.726597</td>\n",
       "    </tr>\n",
       "    <tr>\n",
       "      <th>Monsters, Inc. (2001)</th>\n",
       "      <td>0.424438</td>\n",
       "      <td>0.610698</td>\n",
       "      <td>0.517568</td>\n",
       "    </tr>\n",
       "    <tr>\n",
       "      <th>Shrek (2001)</th>\n",
       "      <td>0.357870</td>\n",
       "      <td>0.670281</td>\n",
       "      <td>0.514076</td>\n",
       "    </tr>\n",
       "    <tr>\n",
       "      <th>Up (2009)</th>\n",
       "      <td>0.571993</td>\n",
       "      <td>0.424857</td>\n",
       "      <td>0.498425</td>\n",
       "    </tr>\n",
       "    <tr>\n",
       "      <th>Aladdin (1992)</th>\n",
       "      <td>0.229107</td>\n",
       "      <td>0.640079</td>\n",
       "      <td>0.434593</td>\n",
       "    </tr>\n",
       "    <tr>\n",
       "      <th>Antz (1998)</th>\n",
       "      <td>0.424438</td>\n",
       "      <td>0.442196</td>\n",
       "      <td>0.433317</td>\n",
       "    </tr>\n",
       "    <tr>\n",
       "      <th>Ice Age (2002)</th>\n",
       "      <td>0.371774</td>\n",
       "      <td>0.479968</td>\n",
       "      <td>0.425871</td>\n",
       "    </tr>\n",
       "    <tr>\n",
       "      <th>Toy Story 3 (2010)</th>\n",
       "      <td>0.347666</td>\n",
       "      <td>0.500500</td>\n",
       "      <td>0.424083</td>\n",
       "    </tr>\n",
       "    <tr>\n",
       "      <th>Who Framed Roger Rabbit? (1988)</th>\n",
       "      <td>0.338677</td>\n",
       "      <td>0.500452</td>\n",
       "      <td>0.419565</td>\n",
       "    </tr>\n",
       "    <tr>\n",
       "      <th>Groundhog Day (1993)</th>\n",
       "      <td>0.191851</td>\n",
       "      <td>0.642587</td>\n",
       "      <td>0.417219</td>\n",
       "    </tr>\n",
       "  </tbody>\n",
       "</table>\n",
       "</div>"
      ],
      "text/plain": [
       "                                  content  collaborative    hybrid\n",
       "Bug's Life, A (1998)             0.900053       0.589816  0.744934\n",
       "Toy Story 2 (1999)               0.762635       0.690558  0.726597\n",
       "Monsters, Inc. (2001)            0.424438       0.610698  0.517568\n",
       "Shrek (2001)                     0.357870       0.670281  0.514076\n",
       "Up (2009)                        0.571993       0.424857  0.498425\n",
       "Aladdin (1992)                   0.229107       0.640079  0.434593\n",
       "Antz (1998)                      0.424438       0.442196  0.433317\n",
       "Ice Age (2002)                   0.371774       0.479968  0.425871\n",
       "Toy Story 3 (2010)               0.347666       0.500500  0.424083\n",
       "Who Framed Roger Rabbit? (1988)  0.338677       0.500452  0.419565\n",
       "Groundhog Day (1993)             0.191851       0.642587  0.417219"
      ]
     },
     "execution_count": 41,
     "metadata": {},
     "output_type": "execute_result"
    }
   ],
   "source": [
    "from sklearn.metrics.pairwise import cosine_similarity\n",
    "a_1 = np.array(latent_matrix_1_df.loc['Toy Story (1995)']).reshape(1,-1)\n",
    "a_2 = np.array(latent_matrix_2_df.loc['Toy Story (1995)']).reshape(1,-1)\n",
    "\n",
    "score_1 = cosine_similarity(latent_matrix_1_df, a_1).reshape(-1)\n",
    "score_2 = cosine_similarity(latent_matrix_2_df, a_2).reshape(-1)\n",
    "\n",
    "hybrid = ((score_1 + score_2)/2.0)\n",
    "\n",
    "dictDf = {'content' : score_1 , 'collaborative': score_2, 'hybrid': hybrid}\n",
    "similar = pd.DataFrame(dictDf, index = latent_matrix_1_df.index)\n",
    "\n",
    "similar.sort_values('hybrid', ascending=False, inplace=True)\n",
    "\n",
    "similar[1:].head(11)"
   ]
  },
  {
   "cell_type": "code",
   "execution_count": null,
   "id": "d33661b0",
   "metadata": {},
   "outputs": [],
   "source": []
  }
 ],
 "metadata": {
  "kernelspec": {
   "display_name": "Python 3 (ipykernel)",
   "language": "python",
   "name": "python3"
  },
  "language_info": {
   "codemirror_mode": {
    "name": "ipython",
    "version": 3
   },
   "file_extension": ".py",
   "mimetype": "text/x-python",
   "name": "python",
   "nbconvert_exporter": "python",
   "pygments_lexer": "ipython3",
   "version": "3.9.12"
  }
 },
 "nbformat": 4,
 "nbformat_minor": 5
}
